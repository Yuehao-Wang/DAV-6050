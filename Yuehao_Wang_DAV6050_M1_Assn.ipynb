{
 "cells": [
  {
   "attachments": {},
   "cell_type": "markdown",
   "metadata": {},
   "source": [
    "# Question\n",
    "\n",
    "- Which major airline had the best on-time performance, based on domestic flights out of New York area airports in 2013.\n",
    "\n",
    "- What does it mean when a flight says on time?\n",
    "  - On-time - The percentage of completed flights that arrived at the gate on-time where on-time is defined as within (less than) 15 minutes of scheduled gate arrival time.\n",
    "  \n",
    "- What does it mean a airline is a major airline?\n",
    "  - https://en.wikipedia.org/wiki/Major_airlines_of_the_United_States\n",
    "  - For this study, A airline that has the most flights is the most major airline.\n",
    "    "
   ]
  },
  {
   "cell_type": "code",
   "execution_count": 1,
   "metadata": {},
   "outputs": [],
   "source": [
    "import matplotlib.pyplot as plt\n",
    "import pandas as pd\n",
    "import numpy as np\n",
    "import seaborn as sns\n",
    "\n",
    "%matplotlib inline\n",
    "# %matplotlib qt\n",
    "%config InlineBackend.figure_format = 'retina'\n",
    "plt.style.use('ggplot')\n",
    "plt.rcParams['figure.figsize'] = (10,5)\n",
    "pd.set_option('display.max_columns', None)\n",
    "pd.set_option('mode.chained_assignment', None)"
   ]
  },
  {
   "cell_type": "code",
   "execution_count": 2,
   "metadata": {},
   "outputs": [],
   "source": [
    "# Load Data\n",
    "df = pd.read_excel(r'C:\\Users\\amorn\\Documents\\yeshiva\\workspace\\DAV-6050\\data\\airline_performance.XLSX')"
   ]
  },
  {
   "cell_type": "code",
   "execution_count": 3,
   "metadata": {},
   "outputs": [
    {
     "data": {
      "text/html": [
       "<div>\n",
       "<style scoped>\n",
       "    .dataframe tbody tr th:only-of-type {\n",
       "        vertical-align: middle;\n",
       "    }\n",
       "\n",
       "    .dataframe tbody tr th {\n",
       "        vertical-align: top;\n",
       "    }\n",
       "\n",
       "    .dataframe thead th {\n",
       "        text-align: right;\n",
       "    }\n",
       "</style>\n",
       "<table border=\"1\" class=\"dataframe\">\n",
       "  <thead>\n",
       "    <tr style=\"text-align: right;\">\n",
       "      <th></th>\n",
       "      <th>dep_time</th>\n",
       "      <th>sched_dep_time</th>\n",
       "      <th>arr_time</th>\n",
       "      <th>sched_arr_time</th>\n",
       "      <th>carrier</th>\n",
       "      <th>airline_name</th>\n",
       "      <th>origin</th>\n",
       "      <th>dest</th>\n",
       "      <th>airport_name</th>\n",
       "    </tr>\n",
       "  </thead>\n",
       "  <tbody>\n",
       "    <tr>\n",
       "      <th>0</th>\n",
       "      <td>2013-01-01 05:17:00</td>\n",
       "      <td>2013-01-01 05:15:00</td>\n",
       "      <td>2013-01-01 08:30:00</td>\n",
       "      <td>2013-01-01 08:19:00</td>\n",
       "      <td>UA</td>\n",
       "      <td>United Air Lines Inc.</td>\n",
       "      <td>EWR</td>\n",
       "      <td>IAH</td>\n",
       "      <td>George Bush Intercontinental</td>\n",
       "    </tr>\n",
       "    <tr>\n",
       "      <th>1</th>\n",
       "      <td>2013-01-01 05:33:00</td>\n",
       "      <td>2013-01-01 05:29:00</td>\n",
       "      <td>2013-01-01 08:50:00</td>\n",
       "      <td>2013-01-01 08:30:00</td>\n",
       "      <td>UA</td>\n",
       "      <td>United Air Lines Inc.</td>\n",
       "      <td>LGA</td>\n",
       "      <td>IAH</td>\n",
       "      <td>George Bush Intercontinental</td>\n",
       "    </tr>\n",
       "    <tr>\n",
       "      <th>2</th>\n",
       "      <td>2013-01-01 05:42:00</td>\n",
       "      <td>2013-01-01 05:40:00</td>\n",
       "      <td>2013-01-01 09:23:00</td>\n",
       "      <td>2013-01-01 08:50:00</td>\n",
       "      <td>AA</td>\n",
       "      <td>American Airlines Inc.</td>\n",
       "      <td>JFK</td>\n",
       "      <td>MIA</td>\n",
       "      <td>Miami Intl</td>\n",
       "    </tr>\n",
       "  </tbody>\n",
       "</table>\n",
       "</div>"
      ],
      "text/plain": [
       "             dep_time      sched_dep_time            arr_time  \\\n",
       "0 2013-01-01 05:17:00 2013-01-01 05:15:00 2013-01-01 08:30:00   \n",
       "1 2013-01-01 05:33:00 2013-01-01 05:29:00 2013-01-01 08:50:00   \n",
       "2 2013-01-01 05:42:00 2013-01-01 05:40:00 2013-01-01 09:23:00   \n",
       "\n",
       "       sched_arr_time carrier            airline_name origin dest  \\\n",
       "0 2013-01-01 08:19:00      UA   United Air Lines Inc.    EWR  IAH   \n",
       "1 2013-01-01 08:30:00      UA   United Air Lines Inc.    LGA  IAH   \n",
       "2 2013-01-01 08:50:00      AA  American Airlines Inc.    JFK  MIA   \n",
       "\n",
       "                   airport_name  \n",
       "0  George Bush Intercontinental  \n",
       "1  George Bush Intercontinental  \n",
       "2                    Miami Intl  "
      ]
     },
     "execution_count": 3,
     "metadata": {},
     "output_type": "execute_result"
    }
   ],
   "source": [
    "df.head(3)"
   ]
  },
  {
   "cell_type": "code",
   "execution_count": 4,
   "metadata": {},
   "outputs": [
    {
     "data": {
      "text/plain": [
       "(328063, 9)"
      ]
     },
     "execution_count": 4,
     "metadata": {},
     "output_type": "execute_result"
    }
   ],
   "source": [
    "df.shape"
   ]
  },
  {
   "cell_type": "code",
   "execution_count": 5,
   "metadata": {},
   "outputs": [
    {
     "data": {
      "text/plain": [
       "Index(['dep_time', 'sched_dep_time', 'arr_time', 'sched_arr_time', 'carrier',\n",
       "       'airline_name', 'origin', 'dest', 'airport_name'],\n",
       "      dtype='object')"
      ]
     },
     "execution_count": 5,
     "metadata": {},
     "output_type": "execute_result"
    }
   ],
   "source": [
    "df.columns"
   ]
  },
  {
   "cell_type": "code",
   "execution_count": 6,
   "metadata": {},
   "outputs": [
    {
     "name": "stdout",
     "output_type": "stream",
     "text": [
      "<class 'pandas.core.frame.DataFrame'>\n",
      "RangeIndex: 328063 entries, 0 to 328062\n",
      "Data columns (total 9 columns):\n",
      " #   Column          Non-Null Count   Dtype         \n",
      "---  ------          --------------   -----         \n",
      " 0   dep_time        328063 non-null  datetime64[ns]\n",
      " 1   sched_dep_time  328063 non-null  datetime64[ns]\n",
      " 2   arr_time        328063 non-null  datetime64[ns]\n",
      " 3   sched_arr_time  328063 non-null  datetime64[ns]\n",
      " 4   carrier         328063 non-null  object        \n",
      " 5   airline_name    328063 non-null  object        \n",
      " 6   origin          328063 non-null  object        \n",
      " 7   dest            328063 non-null  object        \n",
      " 8   airport_name    320503 non-null  object        \n",
      "dtypes: datetime64[ns](4), object(5)\n",
      "memory usage: 22.5+ MB\n"
     ]
    }
   ],
   "source": [
    "df.info()"
   ]
  },
  {
   "cell_type": "markdown",
   "metadata": {},
   "source": [
    "# Data Explore Analysis"
   ]
  },
  {
   "cell_type": "code",
   "execution_count": 7,
   "metadata": {},
   "outputs": [
    {
     "data": {
      "image/png": "[encoded data removed]",
      "text/plain": [
       "<Figure size 720x360 with 1 Axes>"
      ]
     },
     "metadata": {
      "image/png": {
       "height": 318,
       "width": 633
      }
     },
     "output_type": "display_data"
    }
   ],
   "source": [
    "# To see the count of flights from origins\n",
    "ax = sns.countplot(x=\"origin\", data=df,\n",
    "              order = df['origin'].value_counts().index)"
   ]
  },
  {
   "cell_type": "markdown",
   "metadata": {},
   "source": [
    "The 3 origin are in New York area."
   ]
  },
  {
   "cell_type": "code",
   "execution_count": 8,
   "metadata": {},
   "outputs": [
    {
     "data": {
      "image/png": "[encoded data removed]",
      "text/plain": [
       "<Figure size 720x360 with 1 Axes>"
      ]
     },
     "metadata": {
      "image/png": {
       "height": 318,
       "width": 627
      }
     },
     "output_type": "display_data"
    }
   ],
   "source": [
    "# To see the count of flights grouping by carriers\n",
    "ax = sns.countplot(x=\"carrier\", data=df,\n",
    "              order = df['carrier'].value_counts().index)"
   ]
  },
  {
   "cell_type": "markdown",
   "metadata": {},
   "source": [
    "# Data Preparation (Clean Data)\n",
    "- To create a column. It is minutes that equals (arr_time - sched_arr_time)\n",
    "  - For example, -10 means arrive in advance 10 minutes.\n",
    "  \n",
    "- To create a column. It is a flag (true/false) that means on time or not."
   ]
  },
  {
   "cell_type": "markdown",
   "metadata": {},
   "source": [
    "### To create a column. It is minutes that equals (arr_time - sched_arr_time)"
   ]
  },
  {
   "cell_type": "code",
   "execution_count": 56,
   "metadata": {},
   "outputs": [],
   "source": [
    "# copy a new sub data set. Each flight has a different origin and dest, also has a different dep_time and arr_time.\n",
    "delay_df = df[(df['origin'] != df['dest']) & (df['dep_time'] != df['arr_time'])].copy()"
   ]
  },
  {
   "cell_type": "code",
   "execution_count": 57,
   "metadata": {},
   "outputs": [
    {
     "data": {
      "text/plain": [
       "(328063, 9)"
      ]
     },
     "execution_count": 57,
     "metadata": {},
     "output_type": "execute_result"
    }
   ],
   "source": [
    "delay_df.shape"
   ]
  },
  {
   "cell_type": "code",
   "execution_count": null,
   "metadata": {},
   "outputs": [],
   "source": [
    "# To create a column. It is minutes that equals (arr_time - sched_arr_time)\n",
    "delay_df['ontime_minutes'] = delay_df['arr_time'] - delay_df['sched_arr_time']"
   ]
  },
  {
   "cell_type": "code",
   "execution_count": 34,
   "metadata": {},
   "outputs": [],
   "source": [
    "delay_df.loc[:, ('ontime_minutes')] = delay_df['ontime_minutes'].astype('timedelta64[m]')"
   ]
  },
  {
   "cell_type": "code",
   "execution_count": 35,
   "metadata": {},
   "outputs": [
    {
     "data": {
      "text/html": [
       "<div>\n",
       "<style scoped>\n",
       "    .dataframe tbody tr th:only-of-type {\n",
       "        vertical-align: middle;\n",
       "    }\n",
       "\n",
       "    .dataframe tbody tr th {\n",
       "        vertical-align: top;\n",
       "    }\n",
       "\n",
       "    .dataframe thead th {\n",
       "        text-align: right;\n",
       "    }\n",
       "</style>\n",
       "<table border=\"1\" class=\"dataframe\">\n",
       "  <thead>\n",
       "    <tr style=\"text-align: right;\">\n",
       "      <th></th>\n",
       "      <th>dep_time</th>\n",
       "      <th>sched_dep_time</th>\n",
       "      <th>arr_time</th>\n",
       "      <th>sched_arr_time</th>\n",
       "      <th>carrier</th>\n",
       "      <th>airline_name</th>\n",
       "      <th>origin</th>\n",
       "      <th>dest</th>\n",
       "      <th>airport_name</th>\n",
       "      <th>ontime_minutes</th>\n",
       "    </tr>\n",
       "  </thead>\n",
       "  <tbody>\n",
       "    <tr>\n",
       "      <th>0</th>\n",
       "      <td>2013-01-01 05:17:00</td>\n",
       "      <td>2013-01-01 05:15:00</td>\n",
       "      <td>2013-01-01 08:30:00</td>\n",
       "      <td>2013-01-01 08:19:00</td>\n",
       "      <td>UA</td>\n",
       "      <td>United Air Lines Inc.</td>\n",
       "      <td>EWR</td>\n",
       "      <td>IAH</td>\n",
       "      <td>George Bush Intercontinental</td>\n",
       "      <td>11.0</td>\n",
       "    </tr>\n",
       "    <tr>\n",
       "      <th>1</th>\n",
       "      <td>2013-01-01 05:33:00</td>\n",
       "      <td>2013-01-01 05:29:00</td>\n",
       "      <td>2013-01-01 08:50:00</td>\n",
       "      <td>2013-01-01 08:30:00</td>\n",
       "      <td>UA</td>\n",
       "      <td>United Air Lines Inc.</td>\n",
       "      <td>LGA</td>\n",
       "      <td>IAH</td>\n",
       "      <td>George Bush Intercontinental</td>\n",
       "      <td>20.0</td>\n",
       "    </tr>\n",
       "    <tr>\n",
       "      <th>2</th>\n",
       "      <td>2013-01-01 05:42:00</td>\n",
       "      <td>2013-01-01 05:40:00</td>\n",
       "      <td>2013-01-01 09:23:00</td>\n",
       "      <td>2013-01-01 08:50:00</td>\n",
       "      <td>AA</td>\n",
       "      <td>American Airlines Inc.</td>\n",
       "      <td>JFK</td>\n",
       "      <td>MIA</td>\n",
       "      <td>Miami Intl</td>\n",
       "      <td>33.0</td>\n",
       "    </tr>\n",
       "  </tbody>\n",
       "</table>\n",
       "</div>"
      ],
      "text/plain": [
       "             dep_time      sched_dep_time            arr_time  \\\n",
       "0 2013-01-01 05:17:00 2013-01-01 05:15:00 2013-01-01 08:30:00   \n",
       "1 2013-01-01 05:33:00 2013-01-01 05:29:00 2013-01-01 08:50:00   \n",
       "2 2013-01-01 05:42:00 2013-01-01 05:40:00 2013-01-01 09:23:00   \n",
       "\n",
       "       sched_arr_time carrier            airline_name origin dest  \\\n",
       "0 2013-01-01 08:19:00      UA   United Air Lines Inc.    EWR  IAH   \n",
       "1 2013-01-01 08:30:00      UA   United Air Lines Inc.    LGA  IAH   \n",
       "2 2013-01-01 08:50:00      AA  American Airlines Inc.    JFK  MIA   \n",
       "\n",
       "                   airport_name  ontime_minutes  \n",
       "0  George Bush Intercontinental            11.0  \n",
       "1  George Bush Intercontinental            20.0  \n",
       "2                    Miami Intl            33.0  "
      ]
     },
     "execution_count": 35,
     "metadata": {},
     "output_type": "execute_result"
    }
   ],
   "source": [
    "# To check\n",
    "delay_df.head(3)"
   ]
  },
  {
   "cell_type": "markdown",
   "metadata": {},
   "source": [
    "### To create a column. It is a flag (true/false) that means on time or not."
   ]
  },
  {
   "cell_type": "code",
   "execution_count": 36,
   "metadata": {},
   "outputs": [],
   "source": [
    "# calculate the ontime flag\n",
    "def cal_ontime_flag(ontime, x):\n",
    "    '''\n",
    "        if ontime < x, return 1.\n",
    "        else return 0.\n",
    "        \n",
    "        For example: ontime = 20, x = 15, return 0\n",
    "    '''\n",
    "    return 1 if ontime < x else 0\n",
    "\n",
    "delay_df['ontime_flag'] = delay_df.apply(lambda row: cal_ontime_flag(row['ontime_minutes'], 15), axis=1)"
   ]
  },
  {
   "cell_type": "code",
   "execution_count": 37,
   "metadata": {},
   "outputs": [
    {
     "data": {
      "text/html": [
       "<div>\n",
       "<style scoped>\n",
       "    .dataframe tbody tr th:only-of-type {\n",
       "        vertical-align: middle;\n",
       "    }\n",
       "\n",
       "    .dataframe tbody tr th {\n",
       "        vertical-align: top;\n",
       "    }\n",
       "\n",
       "    .dataframe thead th {\n",
       "        text-align: right;\n",
       "    }\n",
       "</style>\n",
       "<table border=\"1\" class=\"dataframe\">\n",
       "  <thead>\n",
       "    <tr style=\"text-align: right;\">\n",
       "      <th></th>\n",
       "      <th>dep_time</th>\n",
       "      <th>sched_dep_time</th>\n",
       "      <th>arr_time</th>\n",
       "      <th>sched_arr_time</th>\n",
       "      <th>carrier</th>\n",
       "      <th>airline_name</th>\n",
       "      <th>origin</th>\n",
       "      <th>dest</th>\n",
       "      <th>airport_name</th>\n",
       "      <th>ontime_minutes</th>\n",
       "      <th>ontime_flag</th>\n",
       "    </tr>\n",
       "  </thead>\n",
       "  <tbody>\n",
       "    <tr>\n",
       "      <th>0</th>\n",
       "      <td>2013-01-01 05:17:00</td>\n",
       "      <td>2013-01-01 05:15:00</td>\n",
       "      <td>2013-01-01 08:30:00</td>\n",
       "      <td>2013-01-01 08:19:00</td>\n",
       "      <td>UA</td>\n",
       "      <td>United Air Lines Inc.</td>\n",
       "      <td>EWR</td>\n",
       "      <td>IAH</td>\n",
       "      <td>George Bush Intercontinental</td>\n",
       "      <td>11.0</td>\n",
       "      <td>1</td>\n",
       "    </tr>\n",
       "    <tr>\n",
       "      <th>1</th>\n",
       "      <td>2013-01-01 05:33:00</td>\n",
       "      <td>2013-01-01 05:29:00</td>\n",
       "      <td>2013-01-01 08:50:00</td>\n",
       "      <td>2013-01-01 08:30:00</td>\n",
       "      <td>UA</td>\n",
       "      <td>United Air Lines Inc.</td>\n",
       "      <td>LGA</td>\n",
       "      <td>IAH</td>\n",
       "      <td>George Bush Intercontinental</td>\n",
       "      <td>20.0</td>\n",
       "      <td>0</td>\n",
       "    </tr>\n",
       "    <tr>\n",
       "      <th>2</th>\n",
       "      <td>2013-01-01 05:42:00</td>\n",
       "      <td>2013-01-01 05:40:00</td>\n",
       "      <td>2013-01-01 09:23:00</td>\n",
       "      <td>2013-01-01 08:50:00</td>\n",
       "      <td>AA</td>\n",
       "      <td>American Airlines Inc.</td>\n",
       "      <td>JFK</td>\n",
       "      <td>MIA</td>\n",
       "      <td>Miami Intl</td>\n",
       "      <td>33.0</td>\n",
       "      <td>0</td>\n",
       "    </tr>\n",
       "  </tbody>\n",
       "</table>\n",
       "</div>"
      ],
      "text/plain": [
       "             dep_time      sched_dep_time            arr_time  \\\n",
       "0 2013-01-01 05:17:00 2013-01-01 05:15:00 2013-01-01 08:30:00   \n",
       "1 2013-01-01 05:33:00 2013-01-01 05:29:00 2013-01-01 08:50:00   \n",
       "2 2013-01-01 05:42:00 2013-01-01 05:40:00 2013-01-01 09:23:00   \n",
       "\n",
       "       sched_arr_time carrier            airline_name origin dest  \\\n",
       "0 2013-01-01 08:19:00      UA   United Air Lines Inc.    EWR  IAH   \n",
       "1 2013-01-01 08:30:00      UA   United Air Lines Inc.    LGA  IAH   \n",
       "2 2013-01-01 08:50:00      AA  American Airlines Inc.    JFK  MIA   \n",
       "\n",
       "                   airport_name  ontime_minutes  ontime_flag  \n",
       "0  George Bush Intercontinental            11.0            1  \n",
       "1  George Bush Intercontinental            20.0            0  \n",
       "2                    Miami Intl            33.0            0  "
      ]
     },
     "execution_count": 37,
     "metadata": {},
     "output_type": "execute_result"
    }
   ],
   "source": [
    "# To check\n",
    "delay_df.head(3)"
   ]
  },
  {
   "cell_type": "markdown",
   "metadata": {},
   "source": [
    "# Create Aggregation Table"
   ]
  },
  {
   "cell_type": "code",
   "execution_count": 38,
   "metadata": {},
   "outputs": [],
   "source": [
    "delay_agg_df = delay_df.groupby('carrier').agg({'ontime_flag':'sum', 'arr_time':'count'}).rename(columns={\"ontime_flag\": \"ontime_count\", \"arr_time\": \"flights_count\"})"
   ]
  },
  {
   "cell_type": "code",
   "execution_count": 39,
   "metadata": {},
   "outputs": [
    {
     "data": {
      "text/html": [
       "<div>\n",
       "<style scoped>\n",
       "    .dataframe tbody tr th:only-of-type {\n",
       "        vertical-align: middle;\n",
       "    }\n",
       "\n",
       "    .dataframe tbody tr th {\n",
       "        vertical-align: top;\n",
       "    }\n",
       "\n",
       "    .dataframe thead th {\n",
       "        text-align: right;\n",
       "    }\n",
       "</style>\n",
       "<table border=\"1\" class=\"dataframe\">\n",
       "  <thead>\n",
       "    <tr style=\"text-align: right;\">\n",
       "      <th></th>\n",
       "      <th>ontime_count</th>\n",
       "      <th>flights_count</th>\n",
       "    </tr>\n",
       "    <tr>\n",
       "      <th>carrier</th>\n",
       "      <th></th>\n",
       "      <th></th>\n",
       "    </tr>\n",
       "  </thead>\n",
       "  <tbody>\n",
       "    <tr>\n",
       "      <th>9E</th>\n",
       "      <td>13121</td>\n",
       "      <td>17345</td>\n",
       "    </tr>\n",
       "    <tr>\n",
       "      <th>AA</th>\n",
       "      <td>26029</td>\n",
       "      <td>32059</td>\n",
       "    </tr>\n",
       "    <tr>\n",
       "      <th>AS</th>\n",
       "      <td>611</td>\n",
       "      <td>712</td>\n",
       "    </tr>\n",
       "  </tbody>\n",
       "</table>\n",
       "</div>"
      ],
      "text/plain": [
       "         ontime_count  flights_count\n",
       "carrier                             \n",
       "9E              13121          17345\n",
       "AA              26029          32059\n",
       "AS                611            712"
      ]
     },
     "execution_count": 39,
     "metadata": {},
     "output_type": "execute_result"
    }
   ],
   "source": [
    "delay_agg_df.head(3)"
   ]
  },
  {
   "cell_type": "code",
   "execution_count": 40,
   "metadata": {},
   "outputs": [],
   "source": [
    "delay_agg_df['ontime_percentage'] = delay_agg_df['ontime_count']/delay_agg_df['flights_count'] * 100"
   ]
  },
  {
   "cell_type": "code",
   "execution_count": 41,
   "metadata": {},
   "outputs": [
    {
     "data": {
      "text/html": [
       "<div>\n",
       "<style scoped>\n",
       "    .dataframe tbody tr th:only-of-type {\n",
       "        vertical-align: middle;\n",
       "    }\n",
       "\n",
       "    .dataframe tbody tr th {\n",
       "        vertical-align: top;\n",
       "    }\n",
       "\n",
       "    .dataframe thead th {\n",
       "        text-align: right;\n",
       "    }\n",
       "</style>\n",
       "<table border=\"1\" class=\"dataframe\">\n",
       "  <thead>\n",
       "    <tr style=\"text-align: right;\">\n",
       "      <th></th>\n",
       "      <th>ontime_count</th>\n",
       "      <th>flights_count</th>\n",
       "      <th>ontime_percentage</th>\n",
       "    </tr>\n",
       "    <tr>\n",
       "      <th>carrier</th>\n",
       "      <th></th>\n",
       "      <th></th>\n",
       "      <th></th>\n",
       "    </tr>\n",
       "  </thead>\n",
       "  <tbody>\n",
       "    <tr>\n",
       "      <th>9E</th>\n",
       "      <td>13121</td>\n",
       "      <td>17345</td>\n",
       "      <td>75.647161</td>\n",
       "    </tr>\n",
       "    <tr>\n",
       "      <th>AA</th>\n",
       "      <td>26029</td>\n",
       "      <td>32059</td>\n",
       "      <td>81.190929</td>\n",
       "    </tr>\n",
       "    <tr>\n",
       "      <th>AS</th>\n",
       "      <td>611</td>\n",
       "      <td>712</td>\n",
       "      <td>85.814607</td>\n",
       "    </tr>\n",
       "  </tbody>\n",
       "</table>\n",
       "</div>"
      ],
      "text/plain": [
       "         ontime_count  flights_count  ontime_percentage\n",
       "carrier                                                \n",
       "9E              13121          17345          75.647161\n",
       "AA              26029          32059          81.190929\n",
       "AS                611            712          85.814607"
      ]
     },
     "execution_count": 41,
     "metadata": {},
     "output_type": "execute_result"
    }
   ],
   "source": [
    "delay_agg_df.head(3)"
   ]
  },
  {
   "cell_type": "code",
   "execution_count": 42,
   "metadata": {},
   "outputs": [],
   "source": [
    "delay_agg_df['flights_count_rank'] = delay_agg_df['flights_count'].rank(method='first',ascending=False)"
   ]
  },
  {
   "cell_type": "code",
   "execution_count": 43,
   "metadata": {},
   "outputs": [
    {
     "data": {
      "text/html": [
       "<div>\n",
       "<style scoped>\n",
       "    .dataframe tbody tr th:only-of-type {\n",
       "        vertical-align: middle;\n",
       "    }\n",
       "\n",
       "    .dataframe tbody tr th {\n",
       "        vertical-align: top;\n",
       "    }\n",
       "\n",
       "    .dataframe thead th {\n",
       "        text-align: right;\n",
       "    }\n",
       "</style>\n",
       "<table border=\"1\" class=\"dataframe\">\n",
       "  <thead>\n",
       "    <tr style=\"text-align: right;\">\n",
       "      <th></th>\n",
       "      <th>ontime_count</th>\n",
       "      <th>flights_count</th>\n",
       "      <th>ontime_percentage</th>\n",
       "      <th>flights_count_rank</th>\n",
       "    </tr>\n",
       "    <tr>\n",
       "      <th>carrier</th>\n",
       "      <th></th>\n",
       "      <th></th>\n",
       "      <th></th>\n",
       "      <th></th>\n",
       "    </tr>\n",
       "  </thead>\n",
       "  <tbody>\n",
       "    <tr>\n",
       "      <th>9E</th>\n",
       "      <td>13121</td>\n",
       "      <td>17345</td>\n",
       "      <td>75.647161</td>\n",
       "      <td>8.0</td>\n",
       "    </tr>\n",
       "    <tr>\n",
       "      <th>AA</th>\n",
       "      <td>26029</td>\n",
       "      <td>32059</td>\n",
       "      <td>81.190929</td>\n",
       "      <td>5.0</td>\n",
       "    </tr>\n",
       "    <tr>\n",
       "      <th>AS</th>\n",
       "      <td>611</td>\n",
       "      <td>712</td>\n",
       "      <td>85.814607</td>\n",
       "      <td>12.0</td>\n",
       "    </tr>\n",
       "  </tbody>\n",
       "</table>\n",
       "</div>"
      ],
      "text/plain": [
       "         ontime_count  flights_count  ontime_percentage  flights_count_rank\n",
       "carrier                                                                    \n",
       "9E              13121          17345          75.647161                 8.0\n",
       "AA              26029          32059          81.190929                 5.0\n",
       "AS                611            712          85.814607                12.0"
      ]
     },
     "execution_count": 43,
     "metadata": {},
     "output_type": "execute_result"
    }
   ],
   "source": [
    "delay_agg_df.head(3)"
   ]
  },
  {
   "cell_type": "code",
   "execution_count": 44,
   "metadata": {},
   "outputs": [],
   "source": [
    "delay_agg_df['ontime_percentage_rank'] = delay_agg_df['ontime_percentage'].rank(method='first',ascending=False)"
   ]
  },
  {
   "cell_type": "code",
   "execution_count": 45,
   "metadata": {},
   "outputs": [
    {
     "data": {
      "text/html": [
       "<div>\n",
       "<style scoped>\n",
       "    .dataframe tbody tr th:only-of-type {\n",
       "        vertical-align: middle;\n",
       "    }\n",
       "\n",
       "    .dataframe tbody tr th {\n",
       "        vertical-align: top;\n",
       "    }\n",
       "\n",
       "    .dataframe thead th {\n",
       "        text-align: right;\n",
       "    }\n",
       "</style>\n",
       "<table border=\"1\" class=\"dataframe\">\n",
       "  <thead>\n",
       "    <tr style=\"text-align: right;\">\n",
       "      <th></th>\n",
       "      <th>ontime_count</th>\n",
       "      <th>flights_count</th>\n",
       "      <th>ontime_percentage</th>\n",
       "      <th>flights_count_rank</th>\n",
       "      <th>ontime_percentage_rank</th>\n",
       "    </tr>\n",
       "    <tr>\n",
       "      <th>carrier</th>\n",
       "      <th></th>\n",
       "      <th></th>\n",
       "      <th></th>\n",
       "      <th></th>\n",
       "      <th></th>\n",
       "    </tr>\n",
       "  </thead>\n",
       "  <tbody>\n",
       "    <tr>\n",
       "      <th>9E</th>\n",
       "      <td>13121</td>\n",
       "      <td>17345</td>\n",
       "      <td>75.647161</td>\n",
       "      <td>8.0</td>\n",
       "      <td>10.0</td>\n",
       "    </tr>\n",
       "    <tr>\n",
       "      <th>AA</th>\n",
       "      <td>26029</td>\n",
       "      <td>32059</td>\n",
       "      <td>81.190929</td>\n",
       "      <td>5.0</td>\n",
       "      <td>6.0</td>\n",
       "    </tr>\n",
       "    <tr>\n",
       "      <th>AS</th>\n",
       "      <td>611</td>\n",
       "      <td>712</td>\n",
       "      <td>85.814607</td>\n",
       "      <td>12.0</td>\n",
       "      <td>2.0</td>\n",
       "    </tr>\n",
       "  </tbody>\n",
       "</table>\n",
       "</div>"
      ],
      "text/plain": [
       "         ontime_count  flights_count  ontime_percentage  flights_count_rank  \\\n",
       "carrier                                                                       \n",
       "9E              13121          17345          75.647161                 8.0   \n",
       "AA              26029          32059          81.190929                 5.0   \n",
       "AS                611            712          85.814607                12.0   \n",
       "\n",
       "         ontime_percentage_rank  \n",
       "carrier                          \n",
       "9E                         10.0  \n",
       "AA                          6.0  \n",
       "AS                          2.0  "
      ]
     },
     "execution_count": 45,
     "metadata": {},
     "output_type": "execute_result"
    }
   ],
   "source": [
    "delay_agg_df.head(3)"
   ]
  },
  {
   "cell_type": "code",
   "execution_count": 46,
   "metadata": {},
   "outputs": [
    {
     "data": {
      "text/html": [
       "<div>\n",
       "<style scoped>\n",
       "    .dataframe tbody tr th:only-of-type {\n",
       "        vertical-align: middle;\n",
       "    }\n",
       "\n",
       "    .dataframe tbody tr th {\n",
       "        vertical-align: top;\n",
       "    }\n",
       "\n",
       "    .dataframe thead th {\n",
       "        text-align: right;\n",
       "    }\n",
       "</style>\n",
       "<table border=\"1\" class=\"dataframe\">\n",
       "  <thead>\n",
       "    <tr style=\"text-align: right;\">\n",
       "      <th></th>\n",
       "      <th>ontime_count</th>\n",
       "      <th>flights_count</th>\n",
       "      <th>ontime_percentage</th>\n",
       "      <th>flights_count_rank</th>\n",
       "      <th>ontime_percentage_rank</th>\n",
       "    </tr>\n",
       "    <tr>\n",
       "      <th>carrier</th>\n",
       "      <th></th>\n",
       "      <th></th>\n",
       "      <th></th>\n",
       "      <th></th>\n",
       "      <th></th>\n",
       "    </tr>\n",
       "  </thead>\n",
       "  <tbody>\n",
       "    <tr>\n",
       "      <th>9E</th>\n",
       "      <td>13121</td>\n",
       "      <td>17345</td>\n",
       "      <td>75.647161</td>\n",
       "      <td>8.0</td>\n",
       "      <td>10.0</td>\n",
       "    </tr>\n",
       "    <tr>\n",
       "      <th>AA</th>\n",
       "      <td>26029</td>\n",
       "      <td>32059</td>\n",
       "      <td>81.190929</td>\n",
       "      <td>5.0</td>\n",
       "      <td>6.0</td>\n",
       "    </tr>\n",
       "    <tr>\n",
       "      <th>AS</th>\n",
       "      <td>611</td>\n",
       "      <td>712</td>\n",
       "      <td>85.814607</td>\n",
       "      <td>12.0</td>\n",
       "      <td>2.0</td>\n",
       "    </tr>\n",
       "    <tr>\n",
       "      <th>B6</th>\n",
       "      <td>40985</td>\n",
       "      <td>54137</td>\n",
       "      <td>75.706079</td>\n",
       "      <td>2.0</td>\n",
       "      <td>9.0</td>\n",
       "    </tr>\n",
       "    <tr>\n",
       "      <th>DL</th>\n",
       "      <td>39143</td>\n",
       "      <td>47746</td>\n",
       "      <td>81.981737</td>\n",
       "      <td>4.0</td>\n",
       "      <td>4.0</td>\n",
       "    </tr>\n",
       "    <tr>\n",
       "      <th>EV</th>\n",
       "      <td>35991</td>\n",
       "      <td>51251</td>\n",
       "      <td>70.224971</td>\n",
       "      <td>3.0</td>\n",
       "      <td>13.0</td>\n",
       "    </tr>\n",
       "    <tr>\n",
       "      <th>F9</th>\n",
       "      <td>421</td>\n",
       "      <td>681</td>\n",
       "      <td>61.820852</td>\n",
       "      <td>13.0</td>\n",
       "      <td>16.0</td>\n",
       "    </tr>\n",
       "    <tr>\n",
       "      <th>FL</th>\n",
       "      <td>2133</td>\n",
       "      <td>3181</td>\n",
       "      <td>67.054385</td>\n",
       "      <td>11.0</td>\n",
       "      <td>15.0</td>\n",
       "    </tr>\n",
       "    <tr>\n",
       "      <th>HA</th>\n",
       "      <td>299</td>\n",
       "      <td>342</td>\n",
       "      <td>87.426901</td>\n",
       "      <td>15.0</td>\n",
       "      <td>1.0</td>\n",
       "    </tr>\n",
       "    <tr>\n",
       "      <th>MQ</th>\n",
       "      <td>18315</td>\n",
       "      <td>25076</td>\n",
       "      <td>73.037965</td>\n",
       "      <td>6.0</td>\n",
       "      <td>12.0</td>\n",
       "    </tr>\n",
       "    <tr>\n",
       "      <th>OO</th>\n",
       "      <td>22</td>\n",
       "      <td>29</td>\n",
       "      <td>75.862069</td>\n",
       "      <td>16.0</td>\n",
       "      <td>8.0</td>\n",
       "    </tr>\n",
       "    <tr>\n",
       "      <th>UA</th>\n",
       "      <td>45690</td>\n",
       "      <td>57916</td>\n",
       "      <td>78.890117</td>\n",
       "      <td>1.0</td>\n",
       "      <td>7.0</td>\n",
       "    </tr>\n",
       "    <tr>\n",
       "      <th>US</th>\n",
       "      <td>16143</td>\n",
       "      <td>19842</td>\n",
       "      <td>81.357726</td>\n",
       "      <td>7.0</td>\n",
       "      <td>5.0</td>\n",
       "    </tr>\n",
       "    <tr>\n",
       "      <th>VX</th>\n",
       "      <td>4320</td>\n",
       "      <td>5127</td>\n",
       "      <td>84.259801</td>\n",
       "      <td>10.0</td>\n",
       "      <td>3.0</td>\n",
       "    </tr>\n",
       "    <tr>\n",
       "      <th>WN</th>\n",
       "      <td>9059</td>\n",
       "      <td>12075</td>\n",
       "      <td>75.022774</td>\n",
       "      <td>9.0</td>\n",
       "      <td>11.0</td>\n",
       "    </tr>\n",
       "    <tr>\n",
       "      <th>YV</th>\n",
       "      <td>367</td>\n",
       "      <td>544</td>\n",
       "      <td>67.463235</td>\n",
       "      <td>14.0</td>\n",
       "      <td>14.0</td>\n",
       "    </tr>\n",
       "  </tbody>\n",
       "</table>\n",
       "</div>"
      ],
      "text/plain": [
       "         ontime_count  flights_count  ontime_percentage  flights_count_rank  \\\n",
       "carrier                                                                       \n",
       "9E              13121          17345          75.647161                 8.0   \n",
       "AA              26029          32059          81.190929                 5.0   \n",
       "AS                611            712          85.814607                12.0   \n",
       "B6              40985          54137          75.706079                 2.0   \n",
       "DL              39143          47746          81.981737                 4.0   \n",
       "EV              35991          51251          70.224971                 3.0   \n",
       "F9                421            681          61.820852                13.0   \n",
       "FL               2133           3181          67.054385                11.0   \n",
       "HA                299            342          87.426901                15.0   \n",
       "MQ              18315          25076          73.037965                 6.0   \n",
       "OO                 22             29          75.862069                16.0   \n",
       "UA              45690          57916          78.890117                 1.0   \n",
       "US              16143          19842          81.357726                 7.0   \n",
       "VX               4320           5127          84.259801                10.0   \n",
       "WN               9059          12075          75.022774                 9.0   \n",
       "YV                367            544          67.463235                14.0   \n",
       "\n",
       "         ontime_percentage_rank  \n",
       "carrier                          \n",
       "9E                         10.0  \n",
       "AA                          6.0  \n",
       "AS                          2.0  \n",
       "B6                          9.0  \n",
       "DL                          4.0  \n",
       "EV                         13.0  \n",
       "F9                         16.0  \n",
       "FL                         15.0  \n",
       "HA                          1.0  \n",
       "MQ                         12.0  \n",
       "OO                          8.0  \n",
       "UA                          7.0  \n",
       "US                          5.0  \n",
       "VX                          3.0  \n",
       "WN                         11.0  \n",
       "YV                         14.0  "
      ]
     },
     "execution_count": 46,
     "metadata": {},
     "output_type": "execute_result"
    }
   ],
   "source": [
    "delay_agg_df"
   ]
  },
  {
   "cell_type": "code",
   "execution_count": 47,
   "metadata": {},
   "outputs": [],
   "source": [
    "delay_agg_df.reset_index(inplace=True)"
   ]
  },
  {
   "cell_type": "code",
   "execution_count": 48,
   "metadata": {},
   "outputs": [
    {
     "data": {
      "text/html": [
       "<div>\n",
       "<style scoped>\n",
       "    .dataframe tbody tr th:only-of-type {\n",
       "        vertical-align: middle;\n",
       "    }\n",
       "\n",
       "    .dataframe tbody tr th {\n",
       "        vertical-align: top;\n",
       "    }\n",
       "\n",
       "    .dataframe thead th {\n",
       "        text-align: right;\n",
       "    }\n",
       "</style>\n",
       "<table border=\"1\" class=\"dataframe\">\n",
       "  <thead>\n",
       "    <tr style=\"text-align: right;\">\n",
       "      <th></th>\n",
       "      <th>carrier</th>\n",
       "      <th>ontime_count</th>\n",
       "      <th>flights_count</th>\n",
       "      <th>ontime_percentage</th>\n",
       "      <th>flights_count_rank</th>\n",
       "      <th>ontime_percentage_rank</th>\n",
       "    </tr>\n",
       "  </thead>\n",
       "  <tbody>\n",
       "    <tr>\n",
       "      <th>0</th>\n",
       "      <td>9E</td>\n",
       "      <td>13121</td>\n",
       "      <td>17345</td>\n",
       "      <td>75.647161</td>\n",
       "      <td>8.0</td>\n",
       "      <td>10.0</td>\n",
       "    </tr>\n",
       "    <tr>\n",
       "      <th>1</th>\n",
       "      <td>AA</td>\n",
       "      <td>26029</td>\n",
       "      <td>32059</td>\n",
       "      <td>81.190929</td>\n",
       "      <td>5.0</td>\n",
       "      <td>6.0</td>\n",
       "    </tr>\n",
       "    <tr>\n",
       "      <th>2</th>\n",
       "      <td>AS</td>\n",
       "      <td>611</td>\n",
       "      <td>712</td>\n",
       "      <td>85.814607</td>\n",
       "      <td>12.0</td>\n",
       "      <td>2.0</td>\n",
       "    </tr>\n",
       "  </tbody>\n",
       "</table>\n",
       "</div>"
      ],
      "text/plain": [
       "  carrier  ontime_count  flights_count  ontime_percentage  flights_count_rank  \\\n",
       "0      9E         13121          17345          75.647161                 8.0   \n",
       "1      AA         26029          32059          81.190929                 5.0   \n",
       "2      AS           611            712          85.814607                12.0   \n",
       "\n",
       "   ontime_percentage_rank  \n",
       "0                    10.0  \n",
       "1                     6.0  \n",
       "2                     2.0  "
      ]
     },
     "execution_count": 48,
     "metadata": {},
     "output_type": "execute_result"
    }
   ],
   "source": [
    "delay_agg_df.head(3)"
   ]
  },
  {
   "cell_type": "code",
   "execution_count": 49,
   "metadata": {},
   "outputs": [
    {
     "data": {
      "image/png": "[encoded data removed]",
      "text/plain": [
       "<Figure size 720x360 with 1 Axes>"
      ]
     },
     "metadata": {
      "image/png": {
       "height": 318,
       "width": 627
      }
     },
     "output_type": "display_data"
    }
   ],
   "source": [
    "ax = sns.barplot(x=\"carrier\", y=\"flights_count\", data=delay_agg_df, \n",
    "                 order=delay_agg_df.sort_values('flights_count',ascending = False).carrier)"
   ]
  },
  {
   "cell_type": "code",
   "execution_count": 50,
   "metadata": {},
   "outputs": [
    {
     "data": {
      "image/png": "[encoded data removed]",
      "text/plain": [
       "<Figure size 720x360 with 1 Axes>"
      ]
     },
     "metadata": {
      "image/png": {
       "height": 318,
       "width": 608
      }
     },
     "output_type": "display_data"
    }
   ],
   "source": [
    "ax = sns.barplot(x=\"carrier\", y=\"ontime_percentage\", data=delay_agg_df, \n",
    "                 order=delay_agg_df.sort_values('ontime_percentage',ascending = False).carrier)"
   ]
  },
  {
   "cell_type": "markdown",
   "metadata": {},
   "source": [
    "# Top N airlines by the number of flights which has the highest on-time percentage?"
   ]
  },
  {
   "cell_type": "code",
   "execution_count": 51,
   "metadata": {},
   "outputs": [],
   "source": [
    "topN_df = delay_agg_df[delay_agg_df['flights_count_rank'] <= 7]"
   ]
  },
  {
   "cell_type": "code",
   "execution_count": 52,
   "metadata": {},
   "outputs": [
    {
     "data": {
      "text/html": [
       "<div>\n",
       "<style scoped>\n",
       "    .dataframe tbody tr th:only-of-type {\n",
       "        vertical-align: middle;\n",
       "    }\n",
       "\n",
       "    .dataframe tbody tr th {\n",
       "        vertical-align: top;\n",
       "    }\n",
       "\n",
       "    .dataframe thead th {\n",
       "        text-align: right;\n",
       "    }\n",
       "</style>\n",
       "<table border=\"1\" class=\"dataframe\">\n",
       "  <thead>\n",
       "    <tr style=\"text-align: right;\">\n",
       "      <th></th>\n",
       "      <th>carrier</th>\n",
       "      <th>ontime_count</th>\n",
       "      <th>flights_count</th>\n",
       "      <th>ontime_percentage</th>\n",
       "      <th>flights_count_rank</th>\n",
       "      <th>ontime_percentage_rank</th>\n",
       "    </tr>\n",
       "  </thead>\n",
       "  <tbody>\n",
       "    <tr>\n",
       "      <th>4</th>\n",
       "      <td>DL</td>\n",
       "      <td>39143</td>\n",
       "      <td>47746</td>\n",
       "      <td>81.981737</td>\n",
       "      <td>4.0</td>\n",
       "      <td>4.0</td>\n",
       "    </tr>\n",
       "    <tr>\n",
       "      <th>12</th>\n",
       "      <td>US</td>\n",
       "      <td>16143</td>\n",
       "      <td>19842</td>\n",
       "      <td>81.357726</td>\n",
       "      <td>7.0</td>\n",
       "      <td>5.0</td>\n",
       "    </tr>\n",
       "    <tr>\n",
       "      <th>1</th>\n",
       "      <td>AA</td>\n",
       "      <td>26029</td>\n",
       "      <td>32059</td>\n",
       "      <td>81.190929</td>\n",
       "      <td>5.0</td>\n",
       "      <td>6.0</td>\n",
       "    </tr>\n",
       "    <tr>\n",
       "      <th>11</th>\n",
       "      <td>UA</td>\n",
       "      <td>45690</td>\n",
       "      <td>57916</td>\n",
       "      <td>78.890117</td>\n",
       "      <td>1.0</td>\n",
       "      <td>7.0</td>\n",
       "    </tr>\n",
       "    <tr>\n",
       "      <th>3</th>\n",
       "      <td>B6</td>\n",
       "      <td>40985</td>\n",
       "      <td>54137</td>\n",
       "      <td>75.706079</td>\n",
       "      <td>2.0</td>\n",
       "      <td>9.0</td>\n",
       "    </tr>\n",
       "    <tr>\n",
       "      <th>9</th>\n",
       "      <td>MQ</td>\n",
       "      <td>18315</td>\n",
       "      <td>25076</td>\n",
       "      <td>73.037965</td>\n",
       "      <td>6.0</td>\n",
       "      <td>12.0</td>\n",
       "    </tr>\n",
       "    <tr>\n",
       "      <th>5</th>\n",
       "      <td>EV</td>\n",
       "      <td>35991</td>\n",
       "      <td>51251</td>\n",
       "      <td>70.224971</td>\n",
       "      <td>3.0</td>\n",
       "      <td>13.0</td>\n",
       "    </tr>\n",
       "  </tbody>\n",
       "</table>\n",
       "</div>"
      ],
      "text/plain": [
       "   carrier  ontime_count  flights_count  ontime_percentage  \\\n",
       "4       DL         39143          47746          81.981737   \n",
       "12      US         16143          19842          81.357726   \n",
       "1       AA         26029          32059          81.190929   \n",
       "11      UA         45690          57916          78.890117   \n",
       "3       B6         40985          54137          75.706079   \n",
       "9       MQ         18315          25076          73.037965   \n",
       "5       EV         35991          51251          70.224971   \n",
       "\n",
       "    flights_count_rank  ontime_percentage_rank  \n",
       "4                  4.0                     4.0  \n",
       "12                 7.0                     5.0  \n",
       "1                  5.0                     6.0  \n",
       "11                 1.0                     7.0  \n",
       "3                  2.0                     9.0  \n",
       "9                  6.0                    12.0  \n",
       "5                  3.0                    13.0  "
      ]
     },
     "execution_count": 52,
     "metadata": {},
     "output_type": "execute_result"
    }
   ],
   "source": [
    "topN_df.sort_values('ontime_percentage_rank')"
   ]
  },
  {
   "cell_type": "code",
   "execution_count": 53,
   "metadata": {},
   "outputs": [
    {
     "data": {
      "image/png": "[encoded data removed]",
      "text/plain": [
       "<Figure size 720x360 with 1 Axes>"
      ]
     },
     "metadata": {
      "image/png": {
       "height": 318,
       "width": 608
      }
     },
     "output_type": "display_data"
    }
   ],
   "source": [
    "ax = sns.barplot(x=\"carrier\", y=\"ontime_percentage\", data=topN_df, \n",
    "                 order=topN_df.sort_values('ontime_percentage',ascending = False).carrier)"
   ]
  },
  {
   "cell_type": "markdown",
   "metadata": {},
   "source": [
    "# Answer the Question\n",
    "The DL has the highest on-time percentage in the major 7 airlines that have the highest number of flights."
   ]
  },
  {
   "cell_type": "code",
   "execution_count": null,
   "metadata": {},
   "outputs": [],
   "source": []
  }
 ],
 "metadata": {
  "kernelspec": {
   "display_name": "Python 3",
   "language": "python",
   "name": "python3"
  },
  "language_info": {
   "codemirror_mode": {
    "name": "ipython",
    "version": 3
   },
   "file_extension": ".py",
   "mimetype": "text/x-python",
   "name": "python",
   "nbconvert_exporter": "python",
   "pygments_lexer": "ipython3",
   "version": "3.8.5"
  }
 },
 "nbformat": 4,
 "nbformat_minor": 4
}
